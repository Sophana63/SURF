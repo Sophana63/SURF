{
 "cells": [
  {
   "cell_type": "markdown",
   "id": "c386c88c",
   "metadata": {},
   "source": [
    "L’algorithme SURF est utilisé pour détecter et décrire les caractéristiques d’une image. Les caractéristiques sont des points d’intérêt dans l’image qui peuvent être utilisés pour la reconnaissance d’objets, la correspondance d’images et d’autres tâches de vision par ordinateur. L’algorithme SURF détecte les points d’intérêt en utilisant une approximation rapide du Laplacien de Gaussien pour trouver les régions de l’image qui ont des changements rapides d’intensité. Ensuite, il calcule une orientation pour chaque point d’intérêt en utilisant les réponses des ondelettes dans les directions horizontale et verticale. Enfin, il crée une description des caractéristiques pour chaque point d’intérêt en utilisant les réponses des ondelettes dans un voisinage autour du point. Cette description peut être utilisée pour trouver des correspondances entre les points d’intérêt dans différentes images.\n",
    "\n",
    "Le Laplacien de Gaussien (LoG) est un opérateur de détection de contours dans le traitement d’images. Il calcule la seconde dérivée de l’image pour trouver les régions où l’intensité change rapidement, ce qui indique la présence d’un contour. Le LoG est calculé en convoluant l’image avec un noyau LoG, qui est la différence de deux gaussiennes (DoG) à des échelles différentes. Le LoG est souvent utilisé pour trouver les points d’intérêt dans une image en trouvant les maxima locaux dans l’espace d’échelle, qui est créé en appliquant le LoG à l’image à différentes échelles."
   ]
  },
  {
   "cell_type": "markdown",
   "id": "4df2dcda",
   "metadata": {},
   "source": [
    "L’image ci-dessous montre une démonstration d’une approximation du Laplacien de Gaussien. Un grand avantage de cette approximation est que la convolution avec filtre de boîte peut être facilement calculée à l’aide d’images intégrales. Et cela peut être fait en parallèle pour différentes échelles. Les SURF s’appuient également sur le déterminant de la matrice hessoise pour l’échelle et l’emplacement."
   ]
  },
  {
   "cell_type": "markdown",
   "id": "d03024e8",
   "metadata": {},
   "source": [
    "<img src=\"img/surf_boxfilter.jpg\" alt=\"\" />"
   ]
  },
  {
   "cell_type": "markdown",
   "id": "78df38de",
   "metadata": {},
   "source": [
    "Pour l’assignation d’orientation, SURF utilise des réponses d’ondelettes dans le sens horizontal et vertical pour un voisinage de taille 6s. Des poids gaussiens adéquats lui sont également appliqués. Ensuite, ils sont tracés dans un espace comme indiqué dans l’image ci-dessous. L’orientation dominante est estimée en calculant la somme de toutes les réponses dans une fenêtre d’orientation glissante d’angle de 60 degrés. Ce qui est intéressant, c’est que la réponse en ondelettes peut être trouvée en utilisant des images intégrales très facilement à n’importe quelle échelle. Pour de nombreuses applications, l’invariance de rotation n’est pas nécessaire, donc pas besoin de trouver cette orientation, ce qui accélère le processus. SURF fournit une telle fonctionnalité appelée Upright-SURF ou U-SURF. Il améliore la vitesse et est robuste jusqu’à ±15∘. OpenCV prend en charge les deux, en fonction du drapeau, à la verticale. Si elle est égale à 0, l’orientation est calculée. Si elle est égale à 1, l’orientation n’est pas calculée et elle est plus rapide."
   ]
  },
  {
   "cell_type": "markdown",
   "id": "830bde9d",
   "metadata": {},
   "source": [
    "<img src=\"img/surf_orientation.jpg\" alt=\"\" />"
   ]
  },
  {
   "cell_type": "markdown",
   "id": "637d81ba",
   "metadata": {},
   "source": [
    "Pour la description des fonctionnalités, SURF utilise les réponses en ondelettes dans le sens horizontal et vertical (encore une fois, l’utilisation d’images intégrales facilite les choses). Un voisinage de taille 20sX20s est pris autour du point clé où s est la taille. Il est divisé en sous-régions 4x4. Pour chaque sous-région, des réponses d’ondelettes horizontales et verticales sont prises et un vecteur est formé comme ceci, v=(∑dx,∑dy,∑|dx|,∑|dy|). Ceci, lorsqu’il est représenté sous forme de vecteur, donne un descripteur de fonction SURF avec un total de 64 dimensions. Réduisez la dimension, augmentez la vitesse de calcul et de correspondance, mais offrez un meilleur caractère distinctif des caractéristiques.\n",
    "\n",
    "Pour plus de distinction, le descripteur de fonctionnalité SURF a une version étendue en 128 dimensions. Les sommes de dx et |dx| sont calculés séparément pour dy<0 et dy≥0. De même, les sommes de dy et |dy| sont divisés selon le signe de dx , doublant ainsi le nombre de fonctionnalités. Cela n’ajoute pas beaucoup de complexité de calcul. OpenCV prend en charge les deux en définissant la valeur de flag étendue avec 0 et 1 pour 64-dim et 128-dim respectivement (la valeur par défaut est 128-dim)\n",
    "\n",
    "Une autre amélioration importante est l’utilisation du signe du laplacien (trace de la matrice hessienne) pour le point d’intérêt sous-jacent. Il n’ajoute aucun coût de calcul puisqu’il est déjà calculé lors de la détection. Le signe du laplacien distingue les taches lumineuses sur fond sombre de la situation inverse. Dans la phase de correspondance, nous ne comparons les entités que si elles ont le même type de contraste (comme indiqué dans l’image ci-dessous). Ces informations minimales permettent une correspondance plus rapide, sans réduire les performances du descripteur."
   ]
  },
  {
   "cell_type": "markdown",
   "id": "19cfe255",
   "metadata": {},
   "source": [
    "<img src=\"img/surf_matching.jpg\" alt=\"\" />"
   ]
  },
  {
   "cell_type": "markdown",
   "id": "a6e8ee00",
   "metadata": {},
   "source": [
    "En bref, SURF ajoute beaucoup de fonctionnalités pour améliorer la vitesse à chaque étape. L’analyse montre qu’il est 3 fois plus rapide que SIFT alors que les performances sont comparables à SIFT. SURF est bon pour gérer les images avec flou et rotation, mais pas pour gérer le changement de point de vue et le changement d’éclairage."
   ]
  },
  {
   "cell_type": "markdown",
   "id": "bd50078c",
   "metadata": {},
   "source": [
    "----\n",
    "\n",
    "### SURF dans OpenCV\n",
    "\n",
    "OpenCV fournit des fonctionnalités SURF tout comme SIFT. Vous lancez un objet SURF avec des conditions optionnelles telles que des descripteurs 64/128 dim, Upright/Normal SURF, etc. Tous les détails sont bien expliqués dans les documents. Ensuite, comme nous l’avons fait dans SIFT, nous pouvons utiliser SURF.detect(), SURF.compute() etc. pour trouver des points clés et des descripteurs.\n",
    "\n",
    "Tout d’abord, nous verrons une démonstration simple sur la façon de trouver des points clés et des descripteurs SURF et de le dessiner. Tous les exemples sont affichés dans le terminal Python car il est identique à SIFT uniquement."
   ]
  },
  {
   "cell_type": "code",
   "execution_count": null,
   "id": "81b1cd22",
   "metadata": {},
   "outputs": [],
   "source": [
    "import cv2\n",
    "import matplotlib.pyplot as plt\n",
    "import numpy as np\n",
    "\n",
    ">>> img = cv.imread('fly.png', cv.IMREAD_GRAYSCALE)\n",
    "# Créer un objet SURF. Vous pouvez spécifier des paramètres ici ou ultérieurement.\n",
    "# Ici, j’ai fixé le seuil hessois à 400\n",
    "\n",
    ">>> surf = cv.xfeatures2d.SURF_create(400)\n",
    "\n",
    "# Trouvez des points clés et des descripteurs directement\n",
    ">>> kp, des = surf.detectAndCompute(img,None)\n",
    ">>> len(kp)\n",
    " 699"
   ]
  },
  {
   "cell_type": "markdown",
   "id": "93d0087f",
   "metadata": {},
   "source": [
    "1199 points clés, c’est trop pour être montré dans une image. Nous le réduisons à environ 50 pour le dessiner sur une image. Tout en faisant correspondre, nous aurons peut-être besoin de toutes ces fonctionnalités, mais pas maintenant. Nous augmentons donc le seuil de Hesse."
   ]
  },
  {
   "cell_type": "code",
   "execution_count": null,
   "id": "0a9da963",
   "metadata": {},
   "outputs": [],
   "source": [
    "# Vérifiez le seuil actuel de Hesse\n",
    ">>> print( surf.getHessianThreshold() )\n",
    "400.0\n",
    "# Nous l’avons fixé à environ 50000. Rappelez-vous, c’est juste pour représenter en image.\n",
    "# Dans les cas réels, il est préférable d’avoir une valeur 300-500\n",
    ">>> surf.setHessianThreshold(50000)\n",
    "# Encore une fois, calculez les points clés et vérifiez son nombre.\n",
    ">>> kp, des = surf.detectAndCompute(img,None)\n",
    ">>> print( len(kp) ) )\n",
    "47"
   ]
  },
  {
   "cell_type": "markdown",
   "id": "f544e7ad",
   "metadata": {},
   "source": [
    "C’est moins de 50. Dessinons-le sur l’image."
   ]
  },
  {
   "cell_type": "code",
   "execution_count": null,
   "id": "eb45005e",
   "metadata": {},
   "outputs": [],
   "source": [
    ">>> img2 = cv.drawKeypoints(img,kp,Aucun,(255,0,0),4)\n",
    ">>> plt.imshow(img2),plt.show()"
   ]
  },
  {
   "cell_type": "markdown",
   "id": "aeb108b4",
   "metadata": {},
   "source": [
    "Voir le résultat ci-dessous. Vous pouvez voir que SURF ressemble plus à un détecteur de blob. Il détecte les taches blanches sur les ailes du papillon. Vous pouvez le tester avec d’autres images.\n",
    "\n",
    "<img src=\"img/surf_kp1.jpg\" alt=\"\" />\n",
    "\n",
    "Maintenant, je veux appliquer U-SURF, afin qu’il ne trouve pas l’orientation.\n"
   ]
  },
  {
   "cell_type": "code",
   "execution_count": null,
   "id": "c980ed68",
   "metadata": {},
   "outputs": [],
   "source": [
    "# Vérifiez l’indicateur vertical, s’il est Faux, définissez-le sur Vrai\n",
    ">>> print( surf.getUpright() )\n",
    "Faux\n",
    ">>> surf.setUpright(True)\n",
    "# Recalculez les points de fonctionnalité et dessinez-les\n",
    ">>> kp = surf.detect(img,None)\n",
    ">>> img2 = cv.drawKeypoints(img,kp,None,(255,0,0),4)\n",
    ">>> plt.imshow(img2),plt.show()"
   ]
  },
  {
   "cell_type": "markdown",
   "id": "a1ea8589",
   "metadata": {},
   "source": [
    "Voir les résultats ci-dessous. Toutes les orientations sont affichées dans la même direction. C’est plus rapide que précédemment. Si vous travaillez sur des cas où l’orientation n’est pas un problème (comme l’assemblage panoramique), etc., c’est mieux.\n",
    "\n",
    "<img src=\"img/surf_kp2.jpg\" alt=\"\" />"
   ]
  },
  {
   "cell_type": "markdown",
   "id": "928b3a28",
   "metadata": {},
   "source": [
    "Enfin, nous vérifions la taille du descripteur et la changeons à 128 si elle n’est que de 64 dim."
   ]
  },
  {
   "cell_type": "code",
   "execution_count": null,
   "id": "32bd8f39",
   "metadata": {},
   "outputs": [],
   "source": [
    "# Trouver la taille du descripteur\n",
    ">>> print( surf.descriptorSize() )\n",
    "64\n",
    "# Cela signifie drapeau, « étendu » est Faux.\n",
    ">>> surf.getExtended()\n",
    " Faux\n",
    "# Nous arrivons donc à True pour obtenir des descripteurs de 128 dim.\n",
    ">>> surf.setExtended(True)\n",
    ">>> kp, des = surf.detectAndCompute(img,None)\n",
    ">>> print( surf.descriptorSize() )\n",
    "128\n",
    ">>> print( des.shape )\n",
    "(47, 128)"
   ]
  }
 ],
 "metadata": {
  "kernelspec": {
   "display_name": "Python 3 (ipykernel)",
   "language": "python",
   "name": "python3"
  },
  "language_info": {
   "codemirror_mode": {
    "name": "ipython",
    "version": 3
   },
   "file_extension": ".py",
   "mimetype": "text/x-python",
   "name": "python",
   "nbconvert_exporter": "python",
   "pygments_lexer": "ipython3",
   "version": "3.9.15"
  }
 },
 "nbformat": 4,
 "nbformat_minor": 5
}
